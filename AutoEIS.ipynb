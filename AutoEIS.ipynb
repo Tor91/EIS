{
 "cells": [
  {
   "cell_type": "code",
   "execution_count": 1,
   "metadata": {},
   "outputs": [
    {
     "name": "stdout",
     "output_type": "stream",
     "text": [
      "\u001b[2;36m[16:29:01]\u001b[0m\u001b[2;36m \u001b[0m\u001b[31mWARNING \u001b[0m Julia is installed, but needs to be resolved\u001b[33m...\u001b[0m            \n"
     ]
    },
    {
     "ename": "PermissionError",
     "evalue": "[WinError 5] Access is denied: 'C:\\\\ProgramData\\\\anaconda3\\\\julia_env'",
     "output_type": "error",
     "traceback": [
      "\u001b[1;31m---------------------------------------------------------------------------\u001b[0m",
      "\u001b[1;31mPermissionError\u001b[0m                           Traceback (most recent call last)",
      "File \u001b[1;32m~\\AppData\\Roaming\\Python\\Python312\\site-packages\\autoeis\\julia_helpers.py:203\u001b[0m, in \u001b[0;36mensure_julia_deps_ready\u001b[1;34m(quiet, retry)\u001b[0m\n\u001b[0;32m    202\u001b[0m \u001b[38;5;28;01mtry\u001b[39;00m:\n\u001b[1;32m--> 203\u001b[0m     _ensure_julia_deps_ready(quiet)\n\u001b[0;32m    204\u001b[0m \u001b[38;5;28;01mexcept\u001b[39;00m \u001b[38;5;167;01mException\u001b[39;00m:\n",
      "File \u001b[1;32m~\\AppData\\Roaming\\Python\\Python312\\site-packages\\autoeis\\julia_helpers.py:189\u001b[0m, in \u001b[0;36mensure_julia_deps_ready.<locals>._ensure_julia_deps_ready\u001b[1;34m(quiet)\u001b[0m\n\u001b[0;32m    188\u001b[0m     install_julia(quiet\u001b[38;5;241m=\u001b[39mquiet)\n\u001b[1;32m--> 189\u001b[0m Main \u001b[38;5;241m=\u001b[39m init_julia(quiet\u001b[38;5;241m=\u001b[39mquiet)\n\u001b[0;32m    190\u001b[0m \u001b[38;5;28;01mif\u001b[39;00m \u001b[38;5;129;01mnot\u001b[39;00m is_backend_installed(Main\u001b[38;5;241m=\u001b[39mMain, error\u001b[38;5;241m=\u001b[39m\u001b[38;5;28;01mFalse\u001b[39;00m):\n",
      "File \u001b[1;32m~\\AppData\\Roaming\\Python\\Python312\\site-packages\\autoeis\\julia_helpers.py:70\u001b[0m, in \u001b[0;36minit_julia\u001b[1;34m(quiet)\u001b[0m\n\u001b[0;32m     69\u001b[0m     \u001b[38;5;28;01mwith\u001b[39;00m suppress_output():\n\u001b[1;32m---> 70\u001b[0m         \u001b[38;5;28;01mfrom\u001b[39;00m \u001b[38;5;21;01mjuliacall\u001b[39;00m \u001b[38;5;28;01mimport\u001b[39;00m Main\n\u001b[0;32m     71\u001b[0m \u001b[38;5;28;01melse\u001b[39;00m:\n",
      "File \u001b[1;32m~\\AppData\\Roaming\\Python\\Python312\\site-packages\\juliacall\\__init__.py:287\u001b[0m\n\u001b[0;32m    285\u001b[0m     juliacall\u001b[38;5;241m.\u001b[39mipython\u001b[38;5;241m.\u001b[39mload_ipython_extension(ip)\n\u001b[1;32m--> 287\u001b[0m init()\n",
      "File \u001b[1;32m~\\AppData\\Roaming\\Python\\Python312\\site-packages\\juliacall\\__init__.py:159\u001b[0m, in \u001b[0;36minit\u001b[1;34m()\u001b[0m\n\u001b[0;32m    158\u001b[0m \u001b[38;5;66;03m# Find the Julia executable and project\u001b[39;00m\n\u001b[1;32m--> 159\u001b[0m CONFIG[\u001b[38;5;124m'\u001b[39m\u001b[38;5;124mexepath\u001b[39m\u001b[38;5;124m'\u001b[39m] \u001b[38;5;241m=\u001b[39m exepath \u001b[38;5;241m=\u001b[39m juliapkg\u001b[38;5;241m.\u001b[39mexecutable()\n\u001b[0;32m    160\u001b[0m CONFIG[\u001b[38;5;124m'\u001b[39m\u001b[38;5;124mproject\u001b[39m\u001b[38;5;124m'\u001b[39m] \u001b[38;5;241m=\u001b[39m project \u001b[38;5;241m=\u001b[39m juliapkg\u001b[38;5;241m.\u001b[39mproject()\n",
      "File \u001b[1;32m~\\AppData\\Roaming\\Python\\Python312\\site-packages\\juliapkg\\deps.py:406\u001b[0m, in \u001b[0;36mexecutable\u001b[1;34m()\u001b[0m\n\u001b[0;32m    405\u001b[0m \u001b[38;5;28;01mdef\u001b[39;00m \u001b[38;5;21mexecutable\u001b[39m():\n\u001b[1;32m--> 406\u001b[0m     resolve()\n\u001b[0;32m    407\u001b[0m     \u001b[38;5;28;01mreturn\u001b[39;00m STATE[\u001b[38;5;124m\"\u001b[39m\u001b[38;5;124mexecutable\u001b[39m\u001b[38;5;124m\"\u001b[39m]\n",
      "File \u001b[1;32m~\\AppData\\Roaming\\Python\\Python312\\site-packages\\juliapkg\\deps.py:298\u001b[0m, in \u001b[0;36mresolve\u001b[1;34m(force, dry_run)\u001b[0m\n\u001b[0;32m    297\u001b[0m project \u001b[38;5;241m=\u001b[39m STATE[\u001b[38;5;124m\"\u001b[39m\u001b[38;5;124mproject\u001b[39m\u001b[38;5;124m\"\u001b[39m]\n\u001b[1;32m--> 298\u001b[0m os\u001b[38;5;241m.\u001b[39mmakedirs(project, exist_ok\u001b[38;5;241m=\u001b[39m\u001b[38;5;28;01mTrue\u001b[39;00m)\n\u001b[0;32m    299\u001b[0m lock_file \u001b[38;5;241m=\u001b[39m os\u001b[38;5;241m.\u001b[39mpath\u001b[38;5;241m.\u001b[39mjoin(project, \u001b[38;5;124m\"\u001b[39m\u001b[38;5;124mlock.pid\u001b[39m\u001b[38;5;124m\"\u001b[39m)\n",
      "File \u001b[1;32m<frozen os>:225\u001b[0m, in \u001b[0;36mmakedirs\u001b[1;34m(name, mode, exist_ok)\u001b[0m\n",
      "\u001b[1;31mPermissionError\u001b[0m: [WinError 5] Access is denied: 'C:\\\\ProgramData\\\\anaconda3\\\\julia_env'",
      "\nDuring handling of the above exception, another exception occurred:\n",
      "\u001b[1;31mPermissionError\u001b[0m                           Traceback (most recent call last)",
      "Cell \u001b[1;32mIn[1], line 8\u001b[0m\n\u001b[0;32m      5\u001b[0m \u001b[38;5;28;01mimport\u001b[39;00m \u001b[38;5;21;01mseaborn\u001b[39;00m \u001b[38;5;28;01mas\u001b[39;00m \u001b[38;5;21;01msns\u001b[39;00m\n\u001b[0;32m      6\u001b[0m \u001b[38;5;28;01mfrom\u001b[39;00m \u001b[38;5;21;01mIPython\u001b[39;00m\u001b[38;5;21;01m.\u001b[39;00m\u001b[38;5;21;01mdisplay\u001b[39;00m \u001b[38;5;28;01mimport\u001b[39;00m display\n\u001b[1;32m----> 8\u001b[0m \u001b[38;5;28;01mimport\u001b[39;00m \u001b[38;5;21;01mautoeis\u001b[39;00m \u001b[38;5;28;01mas\u001b[39;00m \u001b[38;5;21;01mae\u001b[39;00m\n\u001b[0;32m     10\u001b[0m ae\u001b[38;5;241m.\u001b[39mvisualization\u001b[38;5;241m.\u001b[39mset_plot_style()\n\u001b[0;32m     12\u001b[0m \u001b[38;5;66;03m# Set this to True if you're running the notebook locally\u001b[39;00m\n",
      "File \u001b[1;32m~\\AppData\\Roaming\\Python\\Python312\\site-packages\\autoeis\\__init__.py:29\u001b[0m\n\u001b[0;32m     26\u001b[0m config \u001b[38;5;241m=\u001b[39m _Settings()\n\u001b[0;32m     27\u001b[0m _setup_logger()\n\u001b[1;32m---> 29\u001b[0m \u001b[38;5;28;01mfrom\u001b[39;00m \u001b[38;5;21;01m.\u001b[39;00m \u001b[38;5;28;01mimport\u001b[39;00m core, io, metrics, parser, utils, visualization  \u001b[38;5;66;03m# noqa: F401, E402\u001b[39;00m\n\u001b[0;32m     30\u001b[0m \u001b[38;5;28;01mfrom\u001b[39;00m \u001b[38;5;21;01m.\u001b[39;00m\u001b[38;5;21;01mcore\u001b[39;00m \u001b[38;5;28;01mimport\u001b[39;00m \u001b[38;5;241m*\u001b[39m  \u001b[38;5;66;03m# noqa: E402\u001b[39;00m\n\u001b[0;32m     31\u001b[0m \u001b[38;5;28;01mfrom\u001b[39;00m \u001b[38;5;21;01m.\u001b[39;00m\u001b[38;5;21;01mversion\u001b[39;00m \u001b[38;5;28;01mimport\u001b[39;00m __equivalent_circuits_jl_version__, __version__  \u001b[38;5;66;03m# noqa: F401, E402\u001b[39;00m\n",
      "File \u001b[1;32m~\\AppData\\Roaming\\Python\\Python312\\site-packages\\autoeis\\core.py:54\u001b[0m\n\u001b[0;32m     52\u001b[0m \u001b[38;5;66;03m# Initialize Julia runtime\u001b[39;00m\n\u001b[0;32m     53\u001b[0m os\u001b[38;5;241m.\u001b[39menviron[\u001b[38;5;124m\"\u001b[39m\u001b[38;5;124mPYTHON_JULIACALL_AUTOLOAD_IPYTHON_EXTENSION\u001b[39m\u001b[38;5;124m\"\u001b[39m] \u001b[38;5;241m=\u001b[39m \u001b[38;5;124m\"\u001b[39m\u001b[38;5;124mno\u001b[39m\u001b[38;5;124m\"\u001b[39m\n\u001b[1;32m---> 54\u001b[0m julia_helpers\u001b[38;5;241m.\u001b[39mensure_julia_deps_ready(quiet\u001b[38;5;241m=\u001b[39m\u001b[38;5;28;01mTrue\u001b[39;00m)\n\u001b[0;32m     55\u001b[0m jl \u001b[38;5;241m=\u001b[39m julia_helpers\u001b[38;5;241m.\u001b[39minit_julia(quiet\u001b[38;5;241m=\u001b[39m\u001b[38;5;28;01mTrue\u001b[39;00m)\n\u001b[0;32m     56\u001b[0m ec \u001b[38;5;241m=\u001b[39m julia_helpers\u001b[38;5;241m.\u001b[39mimport_backend(jl)\n",
      "File \u001b[1;32m~\\AppData\\Roaming\\Python\\Python312\\site-packages\\autoeis\\julia_helpers.py:206\u001b[0m, in \u001b[0;36mensure_julia_deps_ready\u001b[1;34m(quiet, retry)\u001b[0m\n\u001b[0;32m    204\u001b[0m \u001b[38;5;28;01mexcept\u001b[39;00m \u001b[38;5;167;01mException\u001b[39;00m:\n\u001b[0;32m    205\u001b[0m     \u001b[38;5;28;01mif\u001b[39;00m retry:\n\u001b[1;32m--> 206\u001b[0m         _reset_julia_env(quiet)\n\u001b[0;32m    207\u001b[0m         _ensure_julia_deps_ready(quiet)\n\u001b[0;32m    208\u001b[0m         \u001b[38;5;28;01mreturn\u001b[39;00m\n",
      "File \u001b[1;32m~\\AppData\\Roaming\\Python\\Python312\\site-packages\\autoeis\\julia_helpers.py:195\u001b[0m, in \u001b[0;36mensure_julia_deps_ready.<locals>._reset_julia_env\u001b[1;34m(quiet)\u001b[0m\n\u001b[0;32m    194\u001b[0m \u001b[38;5;28;01mdef\u001b[39;00m \u001b[38;5;21m_reset_julia_env\u001b[39m(quiet):\n\u001b[1;32m--> 195\u001b[0m     remove_julia_env()\n\u001b[0;32m    196\u001b[0m     \u001b[38;5;28;01mif\u001b[39;00m quiet:\n\u001b[0;32m    197\u001b[0m         \u001b[38;5;28;01mwith\u001b[39;00m suppress_output():\n",
      "File \u001b[1;32m~\\AppData\\Roaming\\Python\\Python312\\site-packages\\autoeis\\julia_helpers.py:219\u001b[0m, in \u001b[0;36mremove_julia_env\u001b[1;34m()\u001b[0m\n\u001b[0;32m    212\u001b[0m \u001b[38;5;28;01mdef\u001b[39;00m \u001b[38;5;21mremove_julia_env\u001b[39m():\n\u001b[0;32m    213\u001b[0m \u001b[38;5;250m    \u001b[39m\u001b[38;5;124;03m\"\"\"Removes the active Julia environment directory.\u001b[39;00m\n\u001b[0;32m    214\u001b[0m \n\u001b[0;32m    215\u001b[0m \u001b[38;5;124;03m    Notes\u001b[39;00m\n\u001b[0;32m    216\u001b[0m \u001b[38;5;124;03m    -----\u001b[39;00m\n\u001b[0;32m    217\u001b[0m \u001b[38;5;124;03m    When Julia or its dependencies are corrupted, this is a possible fix.\u001b[39;00m\n\u001b[0;32m    218\u001b[0m \u001b[38;5;124;03m    \"\"\"\u001b[39;00m\n\u001b[1;32m--> 219\u001b[0m     path_julia_env \u001b[38;5;241m=\u001b[39m Path(juliapkg\u001b[38;5;241m.\u001b[39mproject())\n\u001b[0;32m    221\u001b[0m     \u001b[38;5;28;01mif\u001b[39;00m path_julia_env\u001b[38;5;241m.\u001b[39mexists():\n\u001b[0;32m    222\u001b[0m         log\u001b[38;5;241m.\u001b[39mwarning(\u001b[38;5;124mf\u001b[39m\u001b[38;5;124m\"\u001b[39m\u001b[38;5;124mRemoving Julia environment directory: \u001b[39m\u001b[38;5;132;01m{\u001b[39;00mpath_julia_env\u001b[38;5;132;01m}\u001b[39;00m\u001b[38;5;124m\"\u001b[39m)\n",
      "File \u001b[1;32m~\\AppData\\Roaming\\Python\\Python312\\site-packages\\juliapkg\\deps.py:411\u001b[0m, in \u001b[0;36mproject\u001b[1;34m()\u001b[0m\n\u001b[0;32m    410\u001b[0m \u001b[38;5;28;01mdef\u001b[39;00m \u001b[38;5;21mproject\u001b[39m():\n\u001b[1;32m--> 411\u001b[0m     resolve()\n\u001b[0;32m    412\u001b[0m     \u001b[38;5;28;01mreturn\u001b[39;00m STATE[\u001b[38;5;124m\"\u001b[39m\u001b[38;5;124mproject\u001b[39m\u001b[38;5;124m\"\u001b[39m]\n",
      "File \u001b[1;32m~\\AppData\\Roaming\\Python\\Python312\\site-packages\\juliapkg\\deps.py:298\u001b[0m, in \u001b[0;36mresolve\u001b[1;34m(force, dry_run)\u001b[0m\n\u001b[0;32m    296\u001b[0m \u001b[38;5;66;03m# use a lock to prevent concurrent resolution\u001b[39;00m\n\u001b[0;32m    297\u001b[0m project \u001b[38;5;241m=\u001b[39m STATE[\u001b[38;5;124m\"\u001b[39m\u001b[38;5;124mproject\u001b[39m\u001b[38;5;124m\"\u001b[39m]\n\u001b[1;32m--> 298\u001b[0m os\u001b[38;5;241m.\u001b[39mmakedirs(project, exist_ok\u001b[38;5;241m=\u001b[39m\u001b[38;5;28;01mTrue\u001b[39;00m)\n\u001b[0;32m    299\u001b[0m lock_file \u001b[38;5;241m=\u001b[39m os\u001b[38;5;241m.\u001b[39mpath\u001b[38;5;241m.\u001b[39mjoin(project, \u001b[38;5;124m\"\u001b[39m\u001b[38;5;124mlock.pid\u001b[39m\u001b[38;5;124m\"\u001b[39m)\n\u001b[0;32m    300\u001b[0m lock \u001b[38;5;241m=\u001b[39m FileLock(lock_file)\n",
      "File \u001b[1;32m<frozen os>:225\u001b[0m, in \u001b[0;36mmakedirs\u001b[1;34m(name, mode, exist_ok)\u001b[0m\n",
      "\u001b[1;31mPermissionError\u001b[0m: [WinError 5] Access is denied: 'C:\\\\ProgramData\\\\anaconda3\\\\julia_env'"
     ]
    }
   ],
   "source": [
    "import ipywidgets as widgets\n",
    "import matplotlib.pyplot as plt\n",
    "import numpy as np\n",
    "import numpyro\n",
    "import seaborn as sns\n",
    "from IPython.display import display\n",
    "\n",
    "import autoeis as ae\n",
    "\n",
    "ae.visualization.set_plot_style()\n",
    "\n",
    "# Set this to True if you're running the notebook locally\n",
    "interactive = True"
   ]
  }
 ],
 "metadata": {
  "kernelspec": {
   "display_name": "base",
   "language": "python",
   "name": "python3"
  },
  "language_info": {
   "codemirror_mode": {
    "name": "ipython",
    "version": 3
   },
   "file_extension": ".py",
   "mimetype": "text/x-python",
   "name": "python",
   "nbconvert_exporter": "python",
   "pygments_lexer": "ipython3",
   "version": "3.12.4"
  }
 },
 "nbformat": 4,
 "nbformat_minor": 2
}
