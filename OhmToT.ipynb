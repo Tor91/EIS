{
 "cells": [
  {
   "cell_type": "markdown",
   "metadata": {},
   "source": [
    "## Converts Resistance (Ohm) to Temperature"
   ]
  },
  {
   "cell_type": "code",
   "execution_count": 2,
   "metadata": {},
   "outputs": [
    {
     "name": "stdout",
     "output_type": "stream",
     "text": [
      "The temperature for a resistance of 203 ohms is 274.69°C\n"
     ]
    }
   ],
   "source": [
    "import numpy as np\n",
    "\n",
    "def calculate_temperature(R):\n",
    "    # Constants for PT100 sensor\n",
    "    A = 3.9083e-3\n",
    "    B = -5.775e-7\n",
    "    \n",
    "    # Coefficients for the quadratic equation Bt^2 + At + (1 - R/100) = 0\n",
    "    a = B\n",
    "    b = A\n",
    "    c = 1 - R / 100\n",
    "    \n",
    "    # Calculate the discriminant\n",
    "    discriminant = b**2 - 4*a*c\n",
    "    \n",
    "    if discriminant < 0:\n",
    "        raise ValueError(\"No real solutions for the given resistance.\")\n",
    "    \n",
    "    # Calculate the two possible solutions for t\n",
    "    t = (-b + np.sqrt(discriminant)) / (2*a)\n",
    "    \n",
    "    return t\n",
    "\n",
    "# Example usage\n",
    "R_example = 203  # Example resistance value in ohms\n",
    "temperature = calculate_temperature(R_example)\n",
    "print(f\"The temperature for a resistance of {R_example} ohms is {temperature:.2f}°C\")\n"
   ]
  },
  {
   "cell_type": "code",
   "execution_count": 13,
   "metadata": {},
   "outputs": [
    {
     "data": {
      "text/plain": [
       "632.1956310847181"
      ]
     },
     "execution_count": 13,
     "metadata": {},
     "output_type": "execute_result"
    }
   ],
   "source": [
    "calculate_temperature(324)"
   ]
  },
  {
   "cell_type": "code",
   "execution_count": 22,
   "metadata": {},
   "outputs": [
    {
     "name": "stdout",
     "output_type": "stream",
     "text": [
      "      V     R1     R2          T1          T2\n",
      "0  5.25  202.0    NaN  271.907673         NaN\n",
      "1  5.50  208.0  207.0  288.646035  285.850028\n",
      "2  5.75  213.0    NaN  302.664130         NaN\n",
      "3  6.00  218.0  218.0  316.746295  316.746295\n",
      "4  6.50  227.0    NaN  342.258490         NaN\n",
      "5  7.00    NaN  238.0         NaN  373.733694\n",
      "6  8.00    NaN  257.0         NaN  428.889529\n",
      "7  9.25    NaN  280.0         NaN  497.066761\n"
     ]
    }
   ],
   "source": [
    "import pandas as pd\n",
    "#data\n",
    "data = {\n",
    "    'V': [5.25, 5.5, 5.75, 6, 6.5, 7, 8, 9.25],\n",
    "    'R1': [202, 208, 213, 218, 227, None, None, None],\n",
    "    'R2': [None, 207, None, 218, None, 238, 257, 280],\n",
    "    'T1': [260.98, 276.33, 289.13, 301.92, 324.95, None, None, None],\n",
    "    'T2': [None, 273.78, None, 301.92, None, 353.09, 401.71, 460.56]\n",
    "}\n",
    "\n",
    "# Create a DataFrame with the provided data\n",
    "df = pd.DataFrame(data)\n",
    "\n",
    "# Calculate T1 and T2 using the provided function and overwrite previous values\n",
    "df['T1'] = df.apply(lambda row: calculate_temperature(row['R1']) if pd.notna(row['R1']) else row['T1'], axis=1)\n",
    "df['T2'] = df.apply(lambda row: calculate_temperature(row['R2']) if pd.notna(row['R2']) else row['T2'], axis=1)\n",
    "\n",
    "# Display the updated DataFrame\n",
    "print(df)"
   ]
  },
  {
   "cell_type": "code",
   "execution_count": null,
   "metadata": {},
   "outputs": [],
   "source": []
  }
 ],
 "metadata": {
  "kernelspec": {
   "display_name": "base",
   "language": "python",
   "name": "python3"
  },
  "language_info": {
   "codemirror_mode": {
    "name": "ipython",
    "version": 3
   },
   "file_extension": ".py",
   "mimetype": "text/x-python",
   "name": "python",
   "nbconvert_exporter": "python",
   "pygments_lexer": "ipython3",
   "version": "3.12.4"
  }
 },
 "nbformat": 4,
 "nbformat_minor": 2
}
