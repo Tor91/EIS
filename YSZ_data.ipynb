{
 "cells": [
  {
   "cell_type": "code",
   "execution_count": 15,
   "metadata": {},
   "outputs": [],
   "source": [
    "from impedance import preprocessing\n",
    "import numpy as np\n",
    "\n",
    "# Load data from the example EIS data\n",
    "frequencies, Z = preprocessing.readCSV('./YSZ_Si_T290ohm_C01.csv')\n",
    "\n",
    "# keep only the impedance data in the first quandrant\n",
    "#frequencies, Z = preprocessing.ignoreBelowX(frequencies, Z)"
   ]
  },
  {
   "cell_type": "code",
   "execution_count": 16,
   "metadata": {},
   "outputs": [],
   "source": [
    "# Remove NaN values\n",
    "frequencies = frequencies[~np.isnan(frequencies)]\n"
   ]
  },
  {
   "cell_type": "code",
   "execution_count": 17,
   "metadata": {},
   "outputs": [],
   "source": [
    "from impedance.models.circuits import CustomCircuit\n",
    "\n",
    "circuit = 'R0-p(R1,C1)-p(R2-Wo1,C2)'\n",
    "initial_guess = [.01, .01, 100, .01, .05, 100, 1]\n",
    "\n",
    "circuit = CustomCircuit(circuit, initial_guess=initial_guess)"
   ]
  },
  {
   "cell_type": "code",
   "execution_count": 18,
   "metadata": {},
   "outputs": [
    {
     "ename": "TypeError",
     "evalue": "length of frequencies and impedance do not match",
     "output_type": "error",
     "traceback": [
      "\u001b[1;31m---------------------------------------------------------------------------\u001b[0m",
      "\u001b[1;31mTypeError\u001b[0m                                 Traceback (most recent call last)",
      "Cell \u001b[1;32mIn[18], line 1\u001b[0m\n\u001b[1;32m----> 1\u001b[0m circuit\u001b[38;5;241m.\u001b[39mfit(frequencies, Z)\n",
      "File \u001b[1;32m~\\AppData\\Roaming\\Python\\Python312\\site-packages\\impedance\\models\\circuits\\circuits.py:97\u001b[0m, in \u001b[0;36mBaseCircuit.fit\u001b[1;34m(self, frequencies, impedance, bounds, weight_by_modulus, **kwargs)\u001b[0m\n\u001b[0;32m     94\u001b[0m impedance \u001b[38;5;241m=\u001b[39m np\u001b[38;5;241m.\u001b[39marray(impedance, dtype\u001b[38;5;241m=\u001b[39m\u001b[38;5;28mcomplex\u001b[39m)\n\u001b[0;32m     96\u001b[0m \u001b[38;5;28;01mif\u001b[39;00m \u001b[38;5;28mlen\u001b[39m(frequencies) \u001b[38;5;241m!=\u001b[39m \u001b[38;5;28mlen\u001b[39m(impedance):\n\u001b[1;32m---> 97\u001b[0m     \u001b[38;5;28;01mraise\u001b[39;00m \u001b[38;5;167;01mTypeError\u001b[39;00m(\u001b[38;5;124m'\u001b[39m\u001b[38;5;124mlength of frequencies and impedance do not match\u001b[39m\u001b[38;5;124m'\u001b[39m)\n\u001b[0;32m     99\u001b[0m \u001b[38;5;28;01mif\u001b[39;00m \u001b[38;5;28mself\u001b[39m\u001b[38;5;241m.\u001b[39minitial_guess \u001b[38;5;241m!=\u001b[39m []:\n\u001b[0;32m    100\u001b[0m     parameters, conf \u001b[38;5;241m=\u001b[39m circuit_fit(frequencies, impedance,\n\u001b[0;32m    101\u001b[0m                                    \u001b[38;5;28mself\u001b[39m\u001b[38;5;241m.\u001b[39mcircuit, \u001b[38;5;28mself\u001b[39m\u001b[38;5;241m.\u001b[39minitial_guess,\n\u001b[0;32m    102\u001b[0m                                    constants\u001b[38;5;241m=\u001b[39m\u001b[38;5;28mself\u001b[39m\u001b[38;5;241m.\u001b[39mconstants,\n\u001b[0;32m    103\u001b[0m                                    bounds\u001b[38;5;241m=\u001b[39mbounds,\n\u001b[0;32m    104\u001b[0m                                    weight_by_modulus\u001b[38;5;241m=\u001b[39mweight_by_modulus,\n\u001b[0;32m    105\u001b[0m                                    \u001b[38;5;241m*\u001b[39m\u001b[38;5;241m*\u001b[39mkwargs)\n",
      "\u001b[1;31mTypeError\u001b[0m: length of frequencies and impedance do not match"
     ]
    }
   ],
   "source": [
    "circuit.fit(frequencies, Z)"
   ]
  }
 ],
 "metadata": {
  "kernelspec": {
   "display_name": "base",
   "language": "python",
   "name": "python3"
  },
  "language_info": {
   "codemirror_mode": {
    "name": "ipython",
    "version": 3
   },
   "file_extension": ".py",
   "mimetype": "text/x-python",
   "name": "python",
   "nbconvert_exporter": "python",
   "pygments_lexer": "ipython3",
   "version": "3.12.4"
  }
 },
 "nbformat": 4,
 "nbformat_minor": 2
}
