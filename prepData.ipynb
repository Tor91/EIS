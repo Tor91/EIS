{
 "cells": [
  {
   "cell_type": "markdown",
   "metadata": {},
   "source": [
    "Here I prepare data for future analysis\n",
    "\n",
    "1. convert to proper format\n",
    "2. clean data etc.\n"
   ]
  },
  {
   "cell_type": "markdown",
   "metadata": {},
   "source": [
    "# convert txt to csv"
   ]
  },
  {
   "cell_type": "code",
   "execution_count": 1,
   "metadata": {},
   "outputs": [],
   "source": [
    "import pandas as pd\n",
    "\n",
    "# input file \n",
    "input_file = \"Zsim.txt\"\n",
    "output_file = \"Zsim.csv\"\n",
    "\n",
    "# Read the text file (adjust delimiter if needed)\n",
    "#>>> df = pd.read_csv(input_file, delimiter=\"\\t\")  # Change \"\\t\" to \",\" or \" \" if needed\n",
    "\n",
    "# Save as CSV\n",
    "#>> df.to_csv(output_file, index=False)"
   ]
  },
  {
   "cell_type": "markdown",
   "metadata": {},
   "source": [
    "# creat 3 column csv file\n",
    "'Frequency (Hz)', 'Z_real (Ohm)', 'Z_imag (Ohm)'"
   ]
  },
  {
   "cell_type": "code",
   "execution_count": 2,
   "metadata": {},
   "outputs": [],
   "source": [
    "# Load the CSV file\n",
    "#>> df = pd.read_csv('Zsim.csv')\n",
    "\n",
    "# Select the columns you want to keep\n",
    "#>> df_cleaned = df[['freq/Hz', 'Re(Z)/Ohm', '-Im(Z)/Ohm']]\n",
    "\n",
    "# Rename columns for clarity\n",
    "#>> df_cleaned.columns = ['Frequency (Hz)', 'Z_real (Ohm)', 'Z_imag (Ohm)']\n",
    "\n",
    "# Save the cleaned data (optional)\n",
    "#>> df_cleaned.to_csv('Zsim_3.csv', index=False, header=False)\n",
    "\n",
    "# Display the cleaned data (optional)\n",
    "#>> print(df_cleaned.head())"
   ]
  },
  {
   "cell_type": "markdown",
   "metadata": {},
   "source": [
    "Plot Data"
   ]
  },
  {
   "cell_type": "code",
   "execution_count": null,
   "metadata": {},
   "outputs": [
    {
     "ename": "TypeError",
     "evalue": "'DataFrame' object is not callable",
     "output_type": "error",
     "traceback": [
      "\u001b[1;31m---------------------------------------------------------------------------\u001b[0m",
      "\u001b[1;31mTypeError\u001b[0m                                 Traceback (most recent call last)",
      "Cell \u001b[1;32mIn[9], line 2\u001b[0m\n\u001b[0;32m      1\u001b[0m df \u001b[38;5;241m=\u001b[39m pd\u001b[38;5;241m.\u001b[39mread_csv(\u001b[38;5;124m'\u001b[39m\u001b[38;5;124mYSZ_Si_T290ohm_C01_3.csv\u001b[39m\u001b[38;5;124m'\u001b[39m)\n\u001b[1;32m----> 2\u001b[0m df(\u001b[38;5;241m1\u001b[39m)\n",
      "\u001b[1;31mTypeError\u001b[0m: 'DataFrame' object is not callable"
     ]
    }
   ],
   "source": [
    "df = pd.read_csv('YSZ_Si_T290ohm_C01_3.csv')\n"
   ]
  },
  {
   "cell_type": "code",
   "execution_count": null,
   "metadata": {},
   "outputs": [],
   "source": []
  }
 ],
 "metadata": {
  "kernelspec": {
   "display_name": "base",
   "language": "python",
   "name": "python3"
  },
  "language_info": {
   "codemirror_mode": {
    "name": "ipython",
    "version": 3
   },
   "file_extension": ".py",
   "mimetype": "text/x-python",
   "name": "python",
   "nbconvert_exporter": "python",
   "pygments_lexer": "ipython3",
   "version": "3.12.4"
  }
 },
 "nbformat": 4,
 "nbformat_minor": 2
}
