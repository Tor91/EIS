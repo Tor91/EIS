{
 "cells": [
  {
   "cell_type": "markdown",
   "metadata": {},
   "source": [
    "Convert txt filmeinto csv file"
   ]
  },
  {
   "cell_type": "code",
   "execution_count": 3,
   "metadata": {},
   "outputs": [],
   "source": [
    "import pandas as pd\n",
    "\n",
    "# input file \n",
    "input_file = \"YSZ_Si_T290ohm_C01.txt\"\n",
    "output_file = \"YSZ_Si_T290ohm_C01.csv\"\n",
    "\n",
    "# Read the text file (adjust delimiter if needed)\n",
    "df = pd.read_csv(input_file, delimiter=\"\\t\")  # Change \"\\t\" to \",\" or \" \" if needed\n",
    "\n",
    "# Save as CSV\n",
    "df.to_csv(output_file, index=False)\n"
   ]
  }
 ],
 "metadata": {
  "kernelspec": {
   "display_name": "base",
   "language": "python",
   "name": "python3"
  },
  "language_info": {
   "codemirror_mode": {
    "name": "ipython",
    "version": 3
   },
   "file_extension": ".py",
   "mimetype": "text/x-python",
   "name": "python",
   "nbconvert_exporter": "python",
   "pygments_lexer": "ipython3",
   "version": "3.12.4"
  }
 },
 "nbformat": 4,
 "nbformat_minor": 2
}
