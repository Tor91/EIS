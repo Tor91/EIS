{
 "cells": [
  {
   "cell_type": "markdown",
   "metadata": {},
   "source": [
    "Convert txt filmeinto csv file"
   ]
  },
  {
   "cell_type": "code",
   "execution_count": 1,
   "metadata": {},
   "outputs": [],
   "source": [
    "import pandas as pd\n",
    "\n",
    "# input file \n",
    "input_file = \"YSZ_Si_T130ohm_C01.txt\"\n",
    "output_file = \"YSZ_Si_T130ohm_C01.csv\"\n",
    "\n",
    "# Read the text file (adjust delimiter if needed)\n",
    "df = pd.read_csv(input_file, delimiter=\"\\t\")  # Change \"\\t\" to \",\" or \" \" if needed\n",
    "\n",
    "# Save as CSV\n",
    "df.to_csv(output_file, index=False)\n"
   ]
  },
  {
   "cell_type": "markdown",
   "metadata": {},
   "source": [
    "creat 3 column csv file"
   ]
  },
  {
   "cell_type": "code",
   "execution_count": 2,
   "metadata": {},
   "outputs": [
    {
     "name": "stdout",
     "output_type": "stream",
     "text": [
      "   Frequency (Hz)  Z_real (Ohm)  Z_imag (Ohm)\n",
      "0      100003.710     14300.711     3011.4653\n",
      "1       89120.023     15069.030     2724.3555\n",
      "2       79433.273     12332.866     2125.7759\n",
      "3       70794.984     14091.985     1973.2698\n",
      "4       63093.828     14162.333     1435.9048\n"
     ]
    }
   ],
   "source": [
    "import pandas as pd\n",
    "\n",
    "# Load the CSV file\n",
    "df = pd.read_csv(output_file)\n",
    "\n",
    "# Select the columns you want to keep\n",
    "df_cleaned = df[['freq/Hz', 'Re(Z)/Ohm', '-Im(Z)/Ohm']]\n",
    "\n",
    "# Rename columns for clarity\n",
    "df_cleaned.columns = ['Frequency (Hz)', 'Z_real (Ohm)', 'Z_imag (Ohm)']\n",
    "\n",
    "# Save the cleaned data (optional)\n",
    "df_cleaned.to_csv('YSZ_Si_T130ohm_C01_3.csv', index=False, header=False)\n",
    "\n",
    "# Display the cleaned data (optional)\n",
    "print(df_cleaned.head())\n"
   ]
  },
  {
   "cell_type": "code",
   "execution_count": null,
   "metadata": {},
   "outputs": [],
   "source": []
  }
 ],
 "metadata": {
  "kernelspec": {
   "display_name": "base",
   "language": "python",
   "name": "python3"
  },
  "language_info": {
   "codemirror_mode": {
    "name": "ipython",
    "version": 3
   },
   "file_extension": ".py",
   "mimetype": "text/x-python",
   "name": "python",
   "nbconvert_exporter": "python",
   "pygments_lexer": "ipython3",
   "version": "3.12.4"
  }
 },
 "nbformat": 4,
 "nbformat_minor": 2
}
