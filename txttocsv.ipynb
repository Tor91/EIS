{
 "cells": [
  {
   "cell_type": "markdown",
   "metadata": {},
   "source": [
    "Convert txt filmeinto csv file"
   ]
  },
  {
   "cell_type": "code",
   "execution_count": 4,
   "metadata": {},
   "outputs": [],
   "source": [
    "import pandas as pd\n",
    "\n",
    "# input file \n",
    "input_file = \"Zsim.txt\"\n",
    "output_file = \"Zsim.csv\"\n",
    "\n",
    "# Read the text file (adjust delimiter if needed)\n",
    "df = pd.read_csv(input_file, delimiter=\"\\t\")  # Change \"\\t\" to \",\" or \" \" if needed\n",
    "\n",
    "# Save as CSV\n",
    "df.to_csv(output_file, index=False)\n"
   ]
  },
  {
   "cell_type": "markdown",
   "metadata": {},
   "source": [
    "creat 3 column csv file"
   ]
  },
  {
   "cell_type": "code",
   "execution_count": 5,
   "metadata": {},
   "outputs": [
    {
     "name": "stdout",
     "output_type": "stream",
     "text": [
      "   Frequency (Hz)  Z_real (Ohm)  Z_imag (Ohm)\n",
      "0      1000000.00     1009.2135     13.065860\n",
      "1       794328.25     1010.9874     14.860533\n",
      "2       630957.38     1013.0939     16.796560\n",
      "3       501187.22     1015.5807     18.845032\n",
      "4       398107.16     1018.4926     20.960405\n"
     ]
    }
   ],
   "source": [
    "import pandas as pd\n",
    "\n",
    "# Load the CSV file\n",
    "df = pd.read_csv('Zsim.csv')\n",
    "\n",
    "# Select the columns you want to keep\n",
    "df_cleaned = df[['freq/Hz', 'Re(Z)/Ohm', '-Im(Z)/Ohm']]\n",
    "\n",
    "# Rename columns for clarity\n",
    "df_cleaned.columns = ['Frequency (Hz)', 'Z_real (Ohm)', 'Z_imag (Ohm)']\n",
    "\n",
    "# Save the cleaned data (optional)\n",
    "df_cleaned.to_csv('Zsim_3.csv', index=False, header=False)\n",
    "\n",
    "# Display the cleaned data (optional)\n",
    "print(df_cleaned.head())\n"
   ]
  }
 ],
 "metadata": {
  "kernelspec": {
   "display_name": "base",
   "language": "python",
   "name": "python3"
  },
  "language_info": {
   "codemirror_mode": {
    "name": "ipython",
    "version": 3
   },
   "file_extension": ".py",
   "mimetype": "text/x-python",
   "name": "python",
   "nbconvert_exporter": "python",
   "pygments_lexer": "ipython3",
   "version": "3.12.4"
  }
 },
 "nbformat": 4,
 "nbformat_minor": 2
}
